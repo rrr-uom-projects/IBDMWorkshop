{
 "metadata": {
  "language_info": {
   "codemirror_mode": {
    "name": "ipython",
    "version": 3
   },
   "file_extension": ".py",
   "mimetype": "text/x-python",
   "name": "python",
   "nbconvert_exporter": "python",
   "pygments_lexer": "ipython3",
   "version": "3.9.0-final"
  },
  "orig_nbformat": 2,
  "kernelspec": {
   "name": "python39064bit7fd64d56249f462394dc94080af000bd",
   "display_name": "Python 3.9.0 64-bit"
  }
 },
 "nbformat": 4,
 "nbformat_minor": 2,
 "cells": [
  {
   "source": [
    "# Image registration\n",
    "## Introduction\n",
    "Image registration is the process of aligning two images.  It involves moving (or deforming) one image, i.e. the floating image, such that it matches the best to a reference or fixed image.  In the image-based data mining methodology, it is used to align, or map, all patient data into a reference frame of reference. \n",
    "\n",
    "In the this notebook, we will see how to perform image registration using the insight toolkit (ITK).  We will use a simplified version, SimpleITK.\n",
    "\n",
    "\n",
    "# Preparatory steps\n",
    "Let's start installing, downloading and importing what we need, and setting up the notebook"
   ],
   "cell_type": "markdown",
   "metadata": {}
  },
  {
   "cell_type": "code",
   "execution_count": null,
   "metadata": {},
   "outputs": [],
   "source": [
    "%pip install SimpleITK"
   ]
  },
  {
   "cell_type": "code",
   "execution_count": null,
   "metadata": {},
   "outputs": [],
   "source": [
    "!wget https://www.dropbox.com/s/1n2gz80i7j8tp9p/HNSCC_data.zip?dl=0\n",
    "!unzip HNSCC_data.zip\n",
    "!rm HNSCC_data.zip"
   ]
  },
  {
   "cell_type": "code",
   "execution_count": null,
   "metadata": {},
   "outputs": [],
   "source": [
    "%matplotlib notebook\n",
    "\n",
    "import SimpleITK as sitk        # for the registration\n",
    "import os                       # for file management\n",
    "import os.path                  # for file management\n",
    "import matplotlib.pyplot as plt # for plotting the metric\n",
    "from ipywidgets import interact, fixed  #for plotting the registered image\n",
    "from numpy import sign, zeros, max\n",
    "\n",
    "runningInColab = True\n",
    "# ## Make the notebook use full width of display\n",
    "# from IPython.core.display import display, HTML\n",
    "# display(HTML(\"<style>.container { width:100% !important; }</style>\"))"
   ]
  },
  {
   "source": [
    "We will be plotting the metric of the function as the registration is doing its job. For that we need to set up some functions:"
   ],
   "cell_type": "markdown",
   "metadata": {}
  },
  {
   "cell_type": "code",
   "execution_count": null,
   "metadata": {},
   "outputs": [],
   "source": [
    "def start_plot():\n",
    "    global metric_values, optimiser_iterations\n",
    "    optimiser_iterations = []\n",
    "    metric_values = []\n",
    "    if runningInColab == False:\n",
    "        global fig, ax\n",
    "        fig = plt.figure()\n",
    "        ax = fig.add_subplot(111)\n",
    "        plt.ion()\n",
    "        fig.show()\n",
    "        fig.canvas.draw()\n",
    "    \n",
    "def plot_values(registration_method):\n",
    "    global metric_values, optimiser_iterations\n",
    "    optimiser_iterations.append(registration_method.GetOptimizerIteration())\n",
    "    metric_values.append(registration_method.GetMetricValue())                                       \n",
    "    # Clear and plot the similarity metric values\n",
    "    if runningInColab == False:\n",
    "        global fig, ax\n",
    "    else:\n",
    "        fig = plt.figure()\n",
    "        ax = fig.add_subplot(111)\n",
    "        clear_output()\n",
    "        \n",
    "    ax.clear()\n",
    "    #ax.plot(optimiser_iterations, metric_values, 'b.')\n",
    "    ax.plot( metric_values, 'b.')\n",
    "    plt.xlabel('Iteration Number',fontsize=12)\n",
    "    plt.ylabel('Metric Value',fontsize=12)\n",
    "    ax.set_ylim([-1, 0])\n",
    "    if( runningInColab ):\n",
    "        plt.show();\n",
    "    else:\n",
    "        fig.canvas.draw()\n",
    "    \n",
    "def command_multires_iterations():\n",
    "    print(\"    > ---- Resolution change ----\")\n"
   ]
  },
  {
   "source": [
    "Let's also define a function to visualize the images after registration."
   ],
   "cell_type": "markdown",
   "metadata": {}
  },
  {
   "cell_type": "code",
   "execution_count": null,
   "metadata": {},
   "outputs": [],
   "source": [
    "# Callback invoked by the IPython interact method for scrolling and modifying the alpha blending\n",
    "# of an image stack of two images that occupy the same physical space. \n",
    "def display_images( referenceImage, floatingAfterResample):\n",
    "    ref = sitk.GetArrayFromImage(referenceImage)\n",
    "    flo = sitk.GetArrayFromImage(floatingAfterResample)\n",
    "\n",
    "    rgbimg = zeros((*ref.shape,3))\n",
    "    rgbimg[...,0]=ref/max(ref);\n",
    "    rgbimg[...,1]=flo/max(ref);\n",
    "    rgbimg[...,2]=ref/max(ref);\n",
    "    \n",
    "    figi = plt.figure(num=None, figsize=(12, 4), dpi=80)\n",
    "    axi = figi.add_subplot(131)\n",
    "    axi.imshow(rgbimg[:,64,:,:]) # change 64 to show a different coronal slice\n",
    "    axi.axis('off'); axi.invert_yaxis()\n",
    "    axi = figi.add_subplot(132)\n",
    "    axi.imshow(rgbimg[50,:,:,:]) # change 50 to show a different axial slice\n",
    "    axi.axis('off')\n",
    "    axi = figi.add_subplot(133)\n",
    "    axi.imshow(rgbimg[:,:,64,:]) # change 64 to show a different saggittal slice\n",
    "    axi.axis('off'); axi.invert_yaxis()\n",
    "    if runningInColab == False:\n",
    "        plt.ion()\n",
    "    figi.show()"
   ]
  },
  {
   "source": [
    "Let's set up some misc. variables."
   ],
   "cell_type": "markdown",
   "metadata": {}
  },
  {
   "cell_type": "code",
   "execution_count": null,
   "metadata": {},
   "outputs": [],
   "source": [
    "imgfolder = \"/content/HNSCC_data/downsampledCTs/\"\n",
    "dataDir = imgfolder\n",
    "doseDir = imgfolder + \"../niftyDoses/\"\n",
    "nrrOutput = imgfolder + \"../warpedImgs/\"\n",
    "nrrOutputDoses = imgfolder + \"../warpedDoses/\"\n",
    "\n",
    "referenceImagePath = imgfolder + \"0002.nii\"\n",
    "referenceMaskPath = imgfolder + \"../0002_mask.nii\""
   ]
  },
  {
   "source": [
    "## Affine registration\n",
    "The first step to register any pair of images is to globally align them. This is achieved using Rigid or Affine registration.\n",
    "\n",
    "In this function, all elements for an affine registration will be set-up. The elements include:\n",
    "-  The **metric**:  This element is used to determine how similar two images are.  In this example, we will use the (negative) normalized cross corelation.\n",
    "-  The **interpolator**: we use a linear interpolator.  A good balance between speed and performance. \n",
    "-  The **reference mask**: to filter the voxels in the image that matter for the registation.  The mask we will use was semi-automatically created, and focuses on the head and neck area, ignoring the shoulders and thorax.\n",
    "-  The **optimiser**: we chose regular step grandient descent.  Change the values of the arguments to see how fast/slow the optimiser converges (if it does!)\n",
    "-  The **transform**:  we chose the 'Similarity 3D Transform'.  This transforms allows translation, rotation and scaling. The choice of the transform defines whether the registation is affine, rigid or non-rigid!  Notice we are optimising 7 parameters, 3 translations, 3 rotations and scaling.\n",
    "\n",
    "This function returns the transform parameters that minimised the metric the most!\n",
    "\n",
    "Check here for extra info: https://simpleitk.readthedocs.io/en/master/registrationOverview.html\n"
   ],
   "cell_type": "markdown",
   "metadata": {}
  },
  {
   "cell_type": "code",
   "execution_count": null,
   "metadata": {},
   "outputs": [],
   "source": [
    "def run_affine_registration(referenceImage, referenceMask, floatingImage, printInfo=True):\n",
    "    R = sitk.ImageRegistrationMethod()\n",
    "    R.SetMetricAsCorrelation()\n",
    "    R.SetInterpolator(sitk.sitkLinear)\n",
    "    R.SetMetricFixedMask(referenceMask)\n",
    "    \n",
    "    R.SetOptimizerAsRegularStepGradientDescent(learningRate=2.0,\n",
    "                                               minStep=1e-2,\n",
    "                                               numberOfIterations=200,\n",
    "                                               gradientMagnitudeTolerance=1e-2,\n",
    "                                               maximumStepSizeInPhysicalUnits = 10)\n",
    "    R.SetOptimizerScalesFromIndexShift()\n",
    "    tx = sitk.CenteredTransformInitializer(referenceImage, floating, sitk.Similarity3DTransform() )\n",
    "    print(\"Initial Number of Parameters: {0}\".format(tx.GetNumberOfParameters()))\n",
    "    R.SetInitialTransform(tx)\n",
    "    R.AddCommand(sitk.sitkIterationEvent, lambda: plot_values(R))\n",
    "    outTx = R.Execute(referenceImage, floatingImage)\n",
    "    if printInfo:\n",
    "        print(\"    >> Optimizer stop condition: {0}\".format(R.GetOptimizerStopConditionDescription()))\n",
    "        print(\"    >> Iteration: {0}\".format(R.GetOptimizerIteration()))\n",
    "        print(\"    >> Metric value: {0}\".format(R.GetMetricValue()))\n",
    "    return outTx"
   ]
  },
  {
   "source": [
    "## Non-rigid Registration\n",
    "Non-rigid registration, also known as deformable registration, helps to fine-tune the image alignment by allowing the image to be deformed. \n",
    "\n",
    "Similarly to the affine registration, all elements are defined in this function.  Additionally, we allow for a multi-resolution approach to speed-up and improve the registration results.\n",
    "\n",
    "The elements include:\n",
    "-  The **metric** [same as in affine]: This element is used to determine how similar two images are.  We will use the (negative) normalized cross corelation again.\n",
    "-  The **interpolator** [same as in affine]: we use a linear interpolator.  A good balance between speed and performance. \n",
    "-  The **reference mask** [same as in affine]: to filter the voxels in the image that matter for the registation.  The mask we will use was semi-automatically created, and focuses on the head and neck area, ignoring the shoulders and thorax.\n",
    "\n",
    "-  The **optimiser**: we chose a different optimiser to allow the many parameters be optimised in a decent time.  Try the Limited memory Broyden Fletcher Goldfarb Shannon minimization (LBFGSB).\n",
    "-  The **transform**:  we chose the BSpline transform. It uses a sparse set of control points to control a free form deformation. This choice of the transform defines the registation to be non-rigid!  Notice we are optimising many more parameters than the affine registration... How many?\n",
    "- The **multi-resolution scheme**: Multiresolution constructs an 'image pyramid', were each level is smaller than the next.  This helps the registration evade local minima, and allows it to run faster (at least in theory) by allowing the optimiser converge faster. It is defined by the ShrinkFactorPerLevel and SmoothingSigmaPerLevel.  The size of the argument array defines how many levels are to be used. Note that this only happens if the argument UseMultiResolution is set to true.\n",
    "\n",
    "This function returns the transform parameters that minimised the metric the most!  \n",
    "\n",
    "Check here for extra info: https://simpleitk.readthedocs.io/en/master/registrationOverview.html"
   ],
   "cell_type": "markdown",
   "metadata": {}
  },
  {
   "cell_type": "code",
   "execution_count": null,
   "metadata": {},
   "outputs": [],
   "source": [
    "def run_nonrigid_registration(referenceImage, referenceMask, floatingImage, useMultiResolution=True, printInfo=True):\n",
    "    R = sitk.ImageRegistrationMethod()\n",
    "    R.SetMetricAsCorrelation()\n",
    "    R.SetInterpolator(sitk.sitkLinear)\n",
    "    R.SetMetricFixedMask(referenceMask)\n",
    "    \n",
    "\n",
    "    R.SetOptimizerAsGradientDescentLineSearch(5.0, 100,\n",
    "                                          convergenceMinimumValue=1e-4,\n",
    "                                          convergenceWindowSize=5)\n",
    "    # try a simpler optimiser?\n",
    "    #R.SetOptimizerAsLBFGSB(gradientConvergenceTolerance=1e-3,\n",
    "    #                   numberOfIterations=100,\n",
    "    #                   maximumNumberOfCorrections=5,\n",
    "    #                   maximumNumberOfFunctionEvaluations=1000,\n",
    "    #                   costFunctionConvergenceFactor=1e+7)\n",
    "\n",
    "    \n",
    "    transformDomainMeshSize=[8]*floatingImage.GetDimension()\n",
    "    tx = sitk.BSplineTransformInitializer(referenceImage, transformDomainMeshSize )\n",
    "    print(\"Initial Number of Parameters: {0}\".format(tx.GetNumberOfParameters()))\n",
    "    R.SetInitialTransform(tx, True)\n",
    "    R.AddCommand(sitk.sitkIterationEvent, lambda: plot_values(R))\n",
    "\n",
    "    if useMultiResolution:\n",
    "        R.SetShrinkFactorsPerLevel([8,4,2,1])\n",
    "        R.SetSmoothingSigmasPerLevel([4,2,1,0])\n",
    "        R.AddCommand(sitk.sitkMultiResolutionIterationEvent, lambda: command_multires_iterations() )\n",
    "    \n",
    "    outTx = R.Execute(referenceImage, floatingImage)\n",
    "\n",
    "    if printInfo:\n",
    "        print(\"    >> Optimizer stop condition: {0}\".format(R.GetOptimizerStopConditionDescription()))\n",
    "        print(\"    >> Iteration: {0}\".format(R.GetOptimizerIteration()))\n",
    "        print(\"    >> Metric value: {0}\".format(R.GetMetricValue()))\n",
    "\n",
    "    return outTx"
   ]
  },
  {
   "source": [
    "## Resampler\n",
    "Last, but not least, the function that applies the found tranformation (affine or non-rigid) to an image (or dose distribution). "
   ],
   "cell_type": "markdown",
   "metadata": {}
  },
  {
   "cell_type": "code",
   "execution_count": null,
   "metadata": {},
   "outputs": [],
   "source": [
    "def resample_image_with_Tx(referenceImage, Tx, iimg):\n",
    "    resampler = sitk.ResampleImageFilter()\n",
    "    resampler.SetReferenceImage(referenceImage);\n",
    "    resampler.SetInterpolator(sitk.sitkLinear)\n",
    "    resampler.SetDefaultPixelValue(0)\n",
    "    resampler.SetTransform(Tx)\n",
    "    oimg = resampler.Execute(iimg)\n",
    "    return oimg"
   ]
  },
  {
   "source": [
    "## Let's set the ball to roll.  \n",
    "\n",
    "First let's read the reference image.  In this case, it is the CT of the reference patient.  We chose 0002 and made a mask for it."
   ],
   "cell_type": "markdown",
   "metadata": {}
  },
  {
   "cell_type": "code",
   "execution_count": null,
   "metadata": {},
   "outputs": [],
   "source": [
    "referenceImage = sitk.ReadImage(referenceImagePath, sitk.sitkFloat32)\n",
    "referenceMask = sitk.ReadImage(referenceMaskPath)   "
   ]
  },
  {
   "source": [
    "We can chose whether we want to do multiresolution in the registration by changing the value of this variable.  Multiresolution constructs an 'image pyramid', were each level is smaller than the next.  This helps the registration evade local minima, and allows it to run faster (at least in theory) by allowing the optimiser converge faster. "
   ],
   "cell_type": "markdown",
   "metadata": {}
  },
  {
   "cell_type": "code",
   "execution_count": null,
   "metadata": {},
   "outputs": [],
   "source": [
    "useMultiRes = True"
   ]
  },
  {
   "source": [
    "Let's now choose the other patient to be registered.  Choose other images to see how the registration works with them."
   ],
   "cell_type": "markdown",
   "metadata": {}
  },
  {
   "cell_type": "code",
   "execution_count": null,
   "metadata": {},
   "outputs": [],
   "source": [
    "img = \"0004.nii\""
   ]
  },
  {
   "source": [
    "This is the where all gets to work together:\n",
    "1. the floating image is read.  If the image is acquired in a different direction than the reference image, the image is flipped.  \n",
    "2. the affine registration is performed, and an image resampled in the same grid as the reference image is created (floatingAfterAffine).\n",
    "3. The non-rigid registration is performed.  The image is resample with the new pairs of parameters (out), and saved\n",
    "4. The dose distribution is loaded, flipped if required, and resampled first with the affine transformation and then with the non-rigid transformation.  Then the warped dose is saved."
   ],
   "cell_type": "markdown",
   "metadata": {}
  },
  {
   "cell_type": "code",
   "execution_count": null,
   "metadata": {},
   "outputs": [],
   "source": [
    "print(img + \" starting!\")\n",
    "start_plot()\n",
    "\n",
    "# STEP 1\n",
    "floating = sitk.ReadImage(os.path.join(dataDir, img), sitk.sitkFloat32)    \n",
    "# Flip if needed HFS vs FFS\n",
    "flipped = False\n",
    "if( sign(floating.GetDirection()[-1]) != sign(referenceImage.GetDirection()[-1]) ):\n",
    "    print(\"(i) Floating image was flipped\")\n",
    "    floating = sitk.Flip(floating, [False, False, True])\n",
    "    flipped = True\n",
    "\n",
    "# STEP 2: register the images allowing only rotations, translations and scaling\n",
    "print(\"---- Affine part ----\")\n",
    "affineTx = run_affine_registration(referenceImage, referenceMask, floating )\n",
    "# print(affineTx)\n",
    "floatingAfterAffine = resample_image_with_Tx(referenceImage, affineTx, floating)\n",
    "\n",
    "# STEP 3: register the images non-rigidly\n",
    "print(\"---- Non-Rigid part ----\")\n",
    "nrrTx = run_nonrigid_registration(referenceImage, referenceMask, floatingAfterAffine, useMultiRes )\n",
    "# print(nrrTx)\n",
    "\n",
    "# Let's resample the image with the B-Spline found\n",
    "print(\"---- Resampling image ----\")\n",
    "out = resample_image_with_Tx(referenceImage, nrrTx, floatingAfterAffine)\n",
    "\n",
    "# Cast and save\n",
    "outshort = sitk.Cast(out, sitk.sitkInt16)\n",
    "sitk.WriteImage(outshort, os.path.join(nrrOutput,img))\n",
    "\n",
    "# STEP 4: Let's now resample the dose with the transformations found before\n",
    "print(\"---- Loading and resampling dose ----\")\n",
    "floatingDose = sitk.ReadImage(os.path.join(doseDir, img) )\n",
    "if( flipped ):\n",
    "    floatingDose = sitk.Flip(floatingDose, [False, False, True])\n",
    "floatingDAfterAffine = resample_image_with_Tx(referenceImage, affineTx, floatingDose)\n",
    "outDose = resample_image_with_Tx(referenceImage, nrrTx, floatingDAfterAffine)\n",
    "sitk.WriteImage(outDose, os.path.join(nrrOutputDoses,img))\n",
    "\n",
    "print(img + \" done!\")\n"
   ]
  },
  {
   "cell_type": "code",
   "execution_count": null,
   "metadata": {},
   "outputs": [],
   "source": [
    "display_images( referenceImage, floatingAfterAffine)\n",
    "display_images( referenceImage, out)"
   ]
  },
  {
   "source": [
    "## Running this code for all patient data\n",
    "The code above can be run to spatially normalize the data of many more patients.  To do so, we will add a for-loop above the code of the previous cell, filling the content of img, and loading each patient sequentially."
   ],
   "cell_type": "markdown",
   "metadata": {}
  },
  {
   "cell_type": "code",
   "execution_count": null,
   "metadata": {
    "tags": []
   },
   "outputs": [],
   "source": [
    "for img in os.listdir(dataDir)[1:]:    \n",
    "    # If the reference data is being passed, copy the data directly\n",
    "    if os.path.join(dataDir, img) == referenceImagePath:\n",
    "        print(\"Reference data copied directly\")\n",
    "        sitk.WriteImage(outshort, os.path.join(nrrOutput,img))\n",
    "        floatingDose = sitk.ReadImage(os.path.join(doseDir, img) )\n",
    "        sitk.WriteImage(out, os.path.join(nrrOutputDoses,img))\n",
    "        continue;\n",
    "    else:\n",
    "        # STEP 1\n",
    "        floating = sitk.ReadImage(os.path.join(dataDir, img), sitk.sitkFloat32)    \n",
    "        # Flip if needed HFS vs FFS\n",
    "        flipped = False\n",
    "        if( sign(floating.GetDirection()[-1]) != sign(referenceImage.GetDirection()[-1]) ):\n",
    "            print(\"(i) Floating image was flipped\")\n",
    "            floating = sitk.Flip(floating, [False, False, True])\n",
    "            flipped = True\n",
    "\n",
    "        # STEP 2: register the images allowing only rotations, translations and scaling\n",
    "        print(\"---- Affine part ----\")\n",
    "        affineTx = run_affine_registration(referenceImage, referenceMask, floating )\n",
    "        # print(affineTx)\n",
    "        floatingAfterAffine = resample_image_with_Tx(referenceImage, affineTx, floating)\n",
    "\n",
    "        # STEP 3: register the images non-rigidly\n",
    "        print(\"---- Non-Rigid part ----\")\n",
    "        nrrTx = run_nonrigid_registration(referenceImage, referenceMask, floatingAfterAffine, useMultiRes )\n",
    "        # print(nrrTx)\n",
    "\n",
    "        # Let's resample the image with the B-Spline found\n",
    "        print(\"---- Resampling image ----\")\n",
    "        out = resample_image_with_Tx(referenceImage, nrrTx, floatingAfterAffine)\n",
    "\n",
    "        # Cast and save\n",
    "        outshort = sitk.Cast(out, sitk.sitkInt16)\n",
    "        sitk.WriteImage(outshort, os.path.join(nrrOutput,img))\n",
    "\n",
    "        # STEP 4: Let's now resample the dose with the transformations found before\n",
    "        print(\"---- Loading and resampling dose ----\")\n",
    "        floatingDose = sitk.ReadImage(os.path.join(doseDir, img) )\n",
    "        if( flipped ):\n",
    "            floatingDose = sitk.Flip(floatingDose, [False, False, True])\n",
    "        floatingDAfterAffine = resample_image_with_Tx(referenceImage, affineTx, floatingDose)\n",
    "        outDose = resample_image_with_Tx(referenceImage, nrrTx, floatingDAfterAffine)\n",
    "        sitk.WriteImage(outDose, os.path.join(nrrOutputDoses,img))\n",
    "\n",
    "        print(img + \" done!\")\n",
    "        break\n",
    "        \n"
   ]
  },
  {
   "cell_type": "code",
   "execution_count": null,
   "metadata": {},
   "outputs": [],
   "source": []
  }
 ]
}